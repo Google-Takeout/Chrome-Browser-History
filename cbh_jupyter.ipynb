{
 "metadata": {
  "language_info": {
   "codemirror_mode": {
    "name": "ipython",
    "version": 3
   },
   "file_extension": ".py",
   "mimetype": "text/x-python",
   "name": "python",
   "nbconvert_exporter": "python",
   "pygments_lexer": "ipython3",
   "version": "3.8.1-final"
  },
  "orig_nbformat": 2,
  "kernelspec": {
   "name": "python38164bit4531da3462464465a8c5836a34dda191",
   "display_name": "Python 3.8.1 64-bit"
  }
 },
 "nbformat": 4,
 "nbformat_minor": 2,
 "cells": [
  {
   "cell_type": "code",
   "execution_count": null,
   "metadata": {},
   "outputs": [],
   "source": [
    "# imports\n",
    "from utils import generate_plot, chart_json, hist_json"
   ]
  },
  {
   "cell_type": "code",
   "execution_count": null,
   "metadata": {},
   "outputs": [],
   "source": [
    "data = []\n",
    "data.append(chart_json(\"BrowserHistory.json\", 365))\n",
    "data.append(hist_json(\"BrowserHistory.json\", 365))\n",
    "# using defaults: 20 for size and 365 for days\n",
    "generate_plot(data, 10, 365)"
   ]
  }
 ]
}