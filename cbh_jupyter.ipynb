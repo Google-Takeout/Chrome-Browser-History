{
 "metadata": {
  "language_info": {
   "codemirror_mode": {
    "name": "ipython",
    "version": 3
   },
   "file_extension": ".py",
   "mimetype": "text/x-python",
   "name": "python",
   "nbconvert_exporter": "python",
   "pygments_lexer": "ipython3",
   "version": 3
  },
  "orig_nbformat": 2,
  "kernelspec": {
   "name": "python_defaultSpec_1596648997920",
   "display_name": "Python 3.8.2 32-bit"
  }
 },
 "nbformat": 4,
 "nbformat_minor": 2,
 "cells": [
  {
   "cell_type": "code",
   "execution_count": null,
   "metadata": {},
   "outputs": [],
   "source": [
    "# imports\n",
    "import sys\n",
    "from chart_utils import chart_json, generate_chart\n",
    "from histogram_utils import hist_json, generate_hist\n",
    "from argparse import ArgumentParser, RawTextHelpFormatter"
   ]
  },
  {
   "cell_type": "code",
   "execution_count": null,
   "metadata": {},
   "outputs": [],
   "source": [
    "# using defaults: 20 for size and 365 for days\n",
    "data = chart_json(\"BrowserHistory.json\", 365)\n",
    "generate_chart(data, 20, 365)"
   ]
  }
 ]
}